{
 "cells": [
  {
   "cell_type": "markdown",
   "metadata": {},
   "source": [
    "## Set Up MCP Server to Expose the Database"
   ]
  },
  {
   "cell_type": "code",
   "execution_count": 2,
   "metadata": {},
   "outputs": [],
   "source": [
    "# database.py\n",
    "import asyncpg\n",
    "import os\n",
    "from dotenv import load_dotenv\n",
    "\n",
    "load_dotenv()\n",
    "DB_CONFIG = {\n",
    "    \"user\": os.getenv(\"DB_USER\"),\n",
    "    \"password\": os.getenv(\"DB_PASSWORD\"),\n",
    "    \"database\": os.getenv(\"DB_NAME\"),\n",
    "    \"host\": os.getenv(\"DB_HOST\", \"localhost\"),\n",
    "    \"port\": int(os.getenv(\"DB_PORT\", \"5432\")),\n",
    "}\n",
    "db_pool = None\n",
    "\n",
    "async def init_db():\n",
    "    global db_pool1\n",
    "    db_pool = await asyncpg.create_pool(**DB_CONFIG)\n",
    "\n",
    "async def close_db():\n",
    "    global db_pool\n",
    "    if db_pool:\n",
    "        await db_pool.close()\n"
   ]
  },
  {
   "cell_type": "code",
   "execution_count": null,
   "metadata": {},
   "outputs": [],
   "source": []
  }
 ],
 "metadata": {
  "kernelspec": {
   "display_name": ".venv",
   "language": "python",
   "name": "python3"
  },
  "language_info": {
   "codemirror_mode": {
    "name": "ipython",
    "version": 3
   },
   "file_extension": ".py",
   "mimetype": "text/x-python",
   "name": "python",
   "nbconvert_exporter": "python",
   "pygments_lexer": "ipython3",
   "version": "3.11.5"
  }
 },
 "nbformat": 4,
 "nbformat_minor": 2
}
